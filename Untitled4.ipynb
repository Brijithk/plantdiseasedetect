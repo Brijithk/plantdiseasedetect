{
  "nbformat": 4,
  "nbformat_minor": 0,
  "metadata": {
    "colab": {
      "provenance": []
    },
    "kernelspec": {
      "name": "python3",
      "display_name": "Python 3"
    },
    "language_info": {
      "name": "python"
    }
  },
  "cells": [
    {
      "cell_type": "code",
      "execution_count": 1,
      "metadata": {
        "colab": {
          "base_uri": "https://localhost:8080/"
        },
        "id": "tr8aIrSspHw_",
        "outputId": "f32d70ee-4036-41e5-808b-cd314b5d0ab1"
      },
      "outputs": [
        {
          "output_type": "stream",
          "name": "stdout",
          "text": [
            "Collecting tensorflowjs\n",
            "  Downloading tensorflowjs-4.17.0-py3-none-any.whl (89 kB)\n",
            "\u001b[?25l     \u001b[90m━━━━━━━━━━━━━━━━━━━━━━━━━━━━━━━━━━━━━━━━\u001b[0m \u001b[32m0.0/89.1 kB\u001b[0m \u001b[31m?\u001b[0m eta \u001b[36m-:--:--\u001b[0m\r\u001b[2K     \u001b[91m━━━━━━━━━━━━━━━━━━━━━━━━━━━━━━━━━━━━\u001b[0m\u001b[91m╸\u001b[0m\u001b[90m━━━\u001b[0m \u001b[32m81.9/89.1 kB\u001b[0m \u001b[31m2.4 MB/s\u001b[0m eta \u001b[36m0:00:01\u001b[0m\r\u001b[2K     \u001b[90m━━━━━━━━━━━━━━━━━━━━━━━━━━━━━━━━━━━━━━━━\u001b[0m \u001b[32m89.1/89.1 kB\u001b[0m \u001b[31m2.1 MB/s\u001b[0m eta \u001b[36m0:00:00\u001b[0m\n",
            "\u001b[?25hRequirement already satisfied: flax>=0.7.2 in /usr/local/lib/python3.10/dist-packages (from tensorflowjs) (0.8.1)\n",
            "Requirement already satisfied: importlib_resources>=5.9.0 in /usr/local/lib/python3.10/dist-packages (from tensorflowjs) (6.1.1)\n",
            "Requirement already satisfied: jax>=0.4.13 in /usr/local/lib/python3.10/dist-packages (from tensorflowjs) (0.4.23)\n",
            "Requirement already satisfied: jaxlib>=0.4.13 in /usr/local/lib/python3.10/dist-packages (from tensorflowjs) (0.4.23+cuda12.cudnn89)\n",
            "Requirement already satisfied: tensorflow<3,>=2.13.0 in /usr/local/lib/python3.10/dist-packages (from tensorflowjs) (2.15.0)\n",
            "Collecting tensorflow-decision-forests>=1.5.0 (from tensorflowjs)\n",
            "  Downloading tensorflow_decision_forests-1.8.1-cp310-cp310-manylinux_2_17_x86_64.manylinux2014_x86_64.whl (15.3 MB)\n",
            "\u001b[2K     \u001b[90m━━━━━━━━━━━━━━━━━━━━━━━━━━━━━━━━━━━━━━━━\u001b[0m \u001b[32m15.3/15.3 MB\u001b[0m \u001b[31m50.3 MB/s\u001b[0m eta \u001b[36m0:00:00\u001b[0m\n",
            "\u001b[?25hRequirement already satisfied: six<2,>=1.16.0 in /usr/local/lib/python3.10/dist-packages (from tensorflowjs) (1.16.0)\n",
            "Requirement already satisfied: tensorflow-hub>=0.14.0 in /usr/local/lib/python3.10/dist-packages (from tensorflowjs) (0.16.1)\n",
            "Requirement already satisfied: packaging~=23.1 in /usr/local/lib/python3.10/dist-packages (from tensorflowjs) (23.2)\n",
            "Requirement already satisfied: numpy>=1.22 in /usr/local/lib/python3.10/dist-packages (from flax>=0.7.2->tensorflowjs) (1.25.2)\n",
            "Requirement already satisfied: msgpack in /usr/local/lib/python3.10/dist-packages (from flax>=0.7.2->tensorflowjs) (1.0.7)\n",
            "Requirement already satisfied: optax in /usr/local/lib/python3.10/dist-packages (from flax>=0.7.2->tensorflowjs) (0.1.9)\n",
            "Requirement already satisfied: orbax-checkpoint in /usr/local/lib/python3.10/dist-packages (from flax>=0.7.2->tensorflowjs) (0.4.4)\n",
            "Requirement already satisfied: tensorstore in /usr/local/lib/python3.10/dist-packages (from flax>=0.7.2->tensorflowjs) (0.1.45)\n",
            "Requirement already satisfied: rich>=11.1 in /usr/local/lib/python3.10/dist-packages (from flax>=0.7.2->tensorflowjs) (13.7.0)\n",
            "Requirement already satisfied: typing-extensions>=4.2 in /usr/local/lib/python3.10/dist-packages (from flax>=0.7.2->tensorflowjs) (4.9.0)\n",
            "Requirement already satisfied: PyYAML>=5.4.1 in /usr/local/lib/python3.10/dist-packages (from flax>=0.7.2->tensorflowjs) (6.0.1)\n",
            "Requirement already satisfied: ml-dtypes>=0.2.0 in /usr/local/lib/python3.10/dist-packages (from jax>=0.4.13->tensorflowjs) (0.2.0)\n",
            "Requirement already satisfied: opt-einsum in /usr/local/lib/python3.10/dist-packages (from jax>=0.4.13->tensorflowjs) (3.3.0)\n",
            "Requirement already satisfied: scipy>=1.9 in /usr/local/lib/python3.10/dist-packages (from jax>=0.4.13->tensorflowjs) (1.11.4)\n",
            "Requirement already satisfied: absl-py>=1.0.0 in /usr/local/lib/python3.10/dist-packages (from tensorflow<3,>=2.13.0->tensorflowjs) (1.4.0)\n",
            "Requirement already satisfied: astunparse>=1.6.0 in /usr/local/lib/python3.10/dist-packages (from tensorflow<3,>=2.13.0->tensorflowjs) (1.6.3)\n",
            "Requirement already satisfied: flatbuffers>=23.5.26 in /usr/local/lib/python3.10/dist-packages (from tensorflow<3,>=2.13.0->tensorflowjs) (23.5.26)\n",
            "Requirement already satisfied: gast!=0.5.0,!=0.5.1,!=0.5.2,>=0.2.1 in /usr/local/lib/python3.10/dist-packages (from tensorflow<3,>=2.13.0->tensorflowjs) (0.5.4)\n",
            "Requirement already satisfied: google-pasta>=0.1.1 in /usr/local/lib/python3.10/dist-packages (from tensorflow<3,>=2.13.0->tensorflowjs) (0.2.0)\n",
            "Requirement already satisfied: h5py>=2.9.0 in /usr/local/lib/python3.10/dist-packages (from tensorflow<3,>=2.13.0->tensorflowjs) (3.9.0)\n",
            "Requirement already satisfied: libclang>=13.0.0 in /usr/local/lib/python3.10/dist-packages (from tensorflow<3,>=2.13.0->tensorflowjs) (16.0.6)\n",
            "Requirement already satisfied: protobuf!=4.21.0,!=4.21.1,!=4.21.2,!=4.21.3,!=4.21.4,!=4.21.5,<5.0.0dev,>=3.20.3 in /usr/local/lib/python3.10/dist-packages (from tensorflow<3,>=2.13.0->tensorflowjs) (3.20.3)\n",
            "Requirement already satisfied: setuptools in /usr/local/lib/python3.10/dist-packages (from tensorflow<3,>=2.13.0->tensorflowjs) (67.7.2)\n",
            "Requirement already satisfied: termcolor>=1.1.0 in /usr/local/lib/python3.10/dist-packages (from tensorflow<3,>=2.13.0->tensorflowjs) (2.4.0)\n",
            "Requirement already satisfied: wrapt<1.15,>=1.11.0 in /usr/local/lib/python3.10/dist-packages (from tensorflow<3,>=2.13.0->tensorflowjs) (1.14.1)\n",
            "Requirement already satisfied: tensorflow-io-gcs-filesystem>=0.23.1 in /usr/local/lib/python3.10/dist-packages (from tensorflow<3,>=2.13.0->tensorflowjs) (0.36.0)\n",
            "Requirement already satisfied: grpcio<2.0,>=1.24.3 in /usr/local/lib/python3.10/dist-packages (from tensorflow<3,>=2.13.0->tensorflowjs) (1.60.1)\n",
            "Requirement already satisfied: tensorboard<2.16,>=2.15 in /usr/local/lib/python3.10/dist-packages (from tensorflow<3,>=2.13.0->tensorflowjs) (2.15.2)\n",
            "Requirement already satisfied: tensorflow-estimator<2.16,>=2.15.0 in /usr/local/lib/python3.10/dist-packages (from tensorflow<3,>=2.13.0->tensorflowjs) (2.15.0)\n",
            "Requirement already satisfied: keras<2.16,>=2.15.0 in /usr/local/lib/python3.10/dist-packages (from tensorflow<3,>=2.13.0->tensorflowjs) (2.15.0)\n",
            "Requirement already satisfied: pandas in /usr/local/lib/python3.10/dist-packages (from tensorflow-decision-forests>=1.5.0->tensorflowjs) (1.5.3)\n",
            "Requirement already satisfied: wheel in /usr/local/lib/python3.10/dist-packages (from tensorflow-decision-forests>=1.5.0->tensorflowjs) (0.42.0)\n",
            "Collecting wurlitzer (from tensorflow-decision-forests>=1.5.0->tensorflowjs)\n",
            "  Downloading wurlitzer-3.0.3-py3-none-any.whl (7.3 kB)\n",
            "Requirement already satisfied: tf-keras>=2.14.1 in /usr/local/lib/python3.10/dist-packages (from tensorflow-hub>=0.14.0->tensorflowjs) (2.15.0)\n",
            "Requirement already satisfied: markdown-it-py>=2.2.0 in /usr/local/lib/python3.10/dist-packages (from rich>=11.1->flax>=0.7.2->tensorflowjs) (3.0.0)\n",
            "Requirement already satisfied: pygments<3.0.0,>=2.13.0 in /usr/local/lib/python3.10/dist-packages (from rich>=11.1->flax>=0.7.2->tensorflowjs) (2.16.1)\n",
            "Requirement already satisfied: google-auth<3,>=1.6.3 in /usr/local/lib/python3.10/dist-packages (from tensorboard<2.16,>=2.15->tensorflow<3,>=2.13.0->tensorflowjs) (2.27.0)\n",
            "Requirement already satisfied: google-auth-oauthlib<2,>=0.5 in /usr/local/lib/python3.10/dist-packages (from tensorboard<2.16,>=2.15->tensorflow<3,>=2.13.0->tensorflowjs) (1.2.0)\n",
            "Requirement already satisfied: markdown>=2.6.8 in /usr/local/lib/python3.10/dist-packages (from tensorboard<2.16,>=2.15->tensorflow<3,>=2.13.0->tensorflowjs) (3.5.2)\n",
            "Requirement already satisfied: requests<3,>=2.21.0 in /usr/local/lib/python3.10/dist-packages (from tensorboard<2.16,>=2.15->tensorflow<3,>=2.13.0->tensorflowjs) (2.31.0)\n",
            "Requirement already satisfied: tensorboard-data-server<0.8.0,>=0.7.0 in /usr/local/lib/python3.10/dist-packages (from tensorboard<2.16,>=2.15->tensorflow<3,>=2.13.0->tensorflowjs) (0.7.2)\n",
            "Requirement already satisfied: werkzeug>=1.0.1 in /usr/local/lib/python3.10/dist-packages (from tensorboard<2.16,>=2.15->tensorflow<3,>=2.13.0->tensorflowjs) (3.0.1)\n",
            "Requirement already satisfied: chex>=0.1.7 in /usr/local/lib/python3.10/dist-packages (from optax->flax>=0.7.2->tensorflowjs) (0.1.85)\n",
            "Requirement already satisfied: etils[epath,epy] in /usr/local/lib/python3.10/dist-packages (from orbax-checkpoint->flax>=0.7.2->tensorflowjs) (1.6.0)\n",
            "Requirement already satisfied: nest_asyncio in /usr/local/lib/python3.10/dist-packages (from orbax-checkpoint->flax>=0.7.2->tensorflowjs) (1.6.0)\n",
            "Requirement already satisfied: python-dateutil>=2.8.1 in /usr/local/lib/python3.10/dist-packages (from pandas->tensorflow-decision-forests>=1.5.0->tensorflowjs) (2.8.2)\n",
            "Requirement already satisfied: pytz>=2020.1 in /usr/local/lib/python3.10/dist-packages (from pandas->tensorflow-decision-forests>=1.5.0->tensorflowjs) (2023.4)\n",
            "Requirement already satisfied: toolz>=0.9.0 in /usr/local/lib/python3.10/dist-packages (from chex>=0.1.7->optax->flax>=0.7.2->tensorflowjs) (0.12.1)\n",
            "Requirement already satisfied: cachetools<6.0,>=2.0.0 in /usr/local/lib/python3.10/dist-packages (from google-auth<3,>=1.6.3->tensorboard<2.16,>=2.15->tensorflow<3,>=2.13.0->tensorflowjs) (5.3.2)\n",
            "Requirement already satisfied: pyasn1-modules>=0.2.1 in /usr/local/lib/python3.10/dist-packages (from google-auth<3,>=1.6.3->tensorboard<2.16,>=2.15->tensorflow<3,>=2.13.0->tensorflowjs) (0.3.0)\n",
            "Requirement already satisfied: rsa<5,>=3.1.4 in /usr/local/lib/python3.10/dist-packages (from google-auth<3,>=1.6.3->tensorboard<2.16,>=2.15->tensorflow<3,>=2.13.0->tensorflowjs) (4.9)\n",
            "Requirement already satisfied: requests-oauthlib>=0.7.0 in /usr/local/lib/python3.10/dist-packages (from google-auth-oauthlib<2,>=0.5->tensorboard<2.16,>=2.15->tensorflow<3,>=2.13.0->tensorflowjs) (1.3.1)\n",
            "Requirement already satisfied: mdurl~=0.1 in /usr/local/lib/python3.10/dist-packages (from markdown-it-py>=2.2.0->rich>=11.1->flax>=0.7.2->tensorflowjs) (0.1.2)\n",
            "Requirement already satisfied: charset-normalizer<4,>=2 in /usr/local/lib/python3.10/dist-packages (from requests<3,>=2.21.0->tensorboard<2.16,>=2.15->tensorflow<3,>=2.13.0->tensorflowjs) (3.3.2)\n",
            "Requirement already satisfied: idna<4,>=2.5 in /usr/local/lib/python3.10/dist-packages (from requests<3,>=2.21.0->tensorboard<2.16,>=2.15->tensorflow<3,>=2.13.0->tensorflowjs) (3.6)\n",
            "Requirement already satisfied: urllib3<3,>=1.21.1 in /usr/local/lib/python3.10/dist-packages (from requests<3,>=2.21.0->tensorboard<2.16,>=2.15->tensorflow<3,>=2.13.0->tensorflowjs) (2.0.7)\n",
            "Requirement already satisfied: certifi>=2017.4.17 in /usr/local/lib/python3.10/dist-packages (from requests<3,>=2.21.0->tensorboard<2.16,>=2.15->tensorflow<3,>=2.13.0->tensorflowjs) (2024.2.2)\n",
            "Requirement already satisfied: MarkupSafe>=2.1.1 in /usr/local/lib/python3.10/dist-packages (from werkzeug>=1.0.1->tensorboard<2.16,>=2.15->tensorflow<3,>=2.13.0->tensorflowjs) (2.1.5)\n",
            "Requirement already satisfied: fsspec in /usr/local/lib/python3.10/dist-packages (from etils[epath,epy]->orbax-checkpoint->flax>=0.7.2->tensorflowjs) (2023.6.0)\n",
            "Requirement already satisfied: zipp in /usr/local/lib/python3.10/dist-packages (from etils[epath,epy]->orbax-checkpoint->flax>=0.7.2->tensorflowjs) (3.17.0)\n",
            "Requirement already satisfied: pyasn1<0.6.0,>=0.4.6 in /usr/local/lib/python3.10/dist-packages (from pyasn1-modules>=0.2.1->google-auth<3,>=1.6.3->tensorboard<2.16,>=2.15->tensorflow<3,>=2.13.0->tensorflowjs) (0.5.1)\n",
            "Requirement already satisfied: oauthlib>=3.0.0 in /usr/local/lib/python3.10/dist-packages (from requests-oauthlib>=0.7.0->google-auth-oauthlib<2,>=0.5->tensorboard<2.16,>=2.15->tensorflow<3,>=2.13.0->tensorflowjs) (3.2.2)\n",
            "Installing collected packages: wurlitzer, tensorflow-decision-forests, tensorflowjs\n",
            "Successfully installed tensorflow-decision-forests-1.8.1 tensorflowjs-4.17.0 wurlitzer-3.0.3\n"
          ]
        }
      ],
      "source": [
        "!pip install tensorflowjs\n"
      ]
    },
    {
      "cell_type": "code",
      "source": [
        "!apt-get install unrar"
      ],
      "metadata": {
        "colab": {
          "base_uri": "https://localhost:8080/"
        },
        "id": "T5sS4v32pguJ",
        "outputId": "68f79b1e-c2f7-4ec8-e758-d2586e8e9832"
      },
      "execution_count": 2,
      "outputs": [
        {
          "output_type": "stream",
          "name": "stdout",
          "text": [
            "Reading package lists... Done\n",
            "Building dependency tree... Done\n",
            "Reading state information... Done\n",
            "unrar is already the newest version (1:6.1.5-1).\n",
            "0 upgraded, 0 newly installed, 0 to remove and 33 not upgraded.\n"
          ]
        }
      ]
    },
    {
      "cell_type": "code",
      "source": [
        "from google.colab import files\n",
        "\n",
        "# Zip the dataset folder into a single ZIP file (optional)\n",
        "!zip -r dataset.zip color\n",
        "\n",
        "# Upload the ZIP file containing the entire dataset folder\n",
        "uploaded = files.upload()"
      ],
      "metadata": {
        "colab": {
          "base_uri": "https://localhost:8080/",
          "height": 125
        },
        "id": "SPKKIYGYpyYP",
        "outputId": "7e6bdc5a-3b81-43c4-b962-81fed3a89653"
      },
      "execution_count": 4,
      "outputs": [
        {
          "output_type": "stream",
          "name": "stdout",
          "text": [
            "\tzip warning: name not matched: color\n",
            "\n",
            "zip error: Nothing to do! (try: zip -r dataset.zip . -i color)\n"
          ]
        },
        {
          "output_type": "display_data",
          "data": {
            "text/plain": [
              "<IPython.core.display.HTML object>"
            ],
            "text/html": [
              "\n",
              "     <input type=\"file\" id=\"files-4b14ed05-a380-42fb-abfe-aec1c771eddc\" name=\"files[]\" multiple disabled\n",
              "        style=\"border:none\" />\n",
              "     <output id=\"result-4b14ed05-a380-42fb-abfe-aec1c771eddc\">\n",
              "      Upload widget is only available when the cell has been executed in the\n",
              "      current browser session. Please rerun this cell to enable.\n",
              "      </output>\n",
              "      <script>// Copyright 2017 Google LLC\n",
              "//\n",
              "// Licensed under the Apache License, Version 2.0 (the \"License\");\n",
              "// you may not use this file except in compliance with the License.\n",
              "// You may obtain a copy of the License at\n",
              "//\n",
              "//      http://www.apache.org/licenses/LICENSE-2.0\n",
              "//\n",
              "// Unless required by applicable law or agreed to in writing, software\n",
              "// distributed under the License is distributed on an \"AS IS\" BASIS,\n",
              "// WITHOUT WARRANTIES OR CONDITIONS OF ANY KIND, either express or implied.\n",
              "// See the License for the specific language governing permissions and\n",
              "// limitations under the License.\n",
              "\n",
              "/**\n",
              " * @fileoverview Helpers for google.colab Python module.\n",
              " */\n",
              "(function(scope) {\n",
              "function span(text, styleAttributes = {}) {\n",
              "  const element = document.createElement('span');\n",
              "  element.textContent = text;\n",
              "  for (const key of Object.keys(styleAttributes)) {\n",
              "    element.style[key] = styleAttributes[key];\n",
              "  }\n",
              "  return element;\n",
              "}\n",
              "\n",
              "// Max number of bytes which will be uploaded at a time.\n",
              "const MAX_PAYLOAD_SIZE = 100 * 1024;\n",
              "\n",
              "function _uploadFiles(inputId, outputId) {\n",
              "  const steps = uploadFilesStep(inputId, outputId);\n",
              "  const outputElement = document.getElementById(outputId);\n",
              "  // Cache steps on the outputElement to make it available for the next call\n",
              "  // to uploadFilesContinue from Python.\n",
              "  outputElement.steps = steps;\n",
              "\n",
              "  return _uploadFilesContinue(outputId);\n",
              "}\n",
              "\n",
              "// This is roughly an async generator (not supported in the browser yet),\n",
              "// where there are multiple asynchronous steps and the Python side is going\n",
              "// to poll for completion of each step.\n",
              "// This uses a Promise to block the python side on completion of each step,\n",
              "// then passes the result of the previous step as the input to the next step.\n",
              "function _uploadFilesContinue(outputId) {\n",
              "  const outputElement = document.getElementById(outputId);\n",
              "  const steps = outputElement.steps;\n",
              "\n",
              "  const next = steps.next(outputElement.lastPromiseValue);\n",
              "  return Promise.resolve(next.value.promise).then((value) => {\n",
              "    // Cache the last promise value to make it available to the next\n",
              "    // step of the generator.\n",
              "    outputElement.lastPromiseValue = value;\n",
              "    return next.value.response;\n",
              "  });\n",
              "}\n",
              "\n",
              "/**\n",
              " * Generator function which is called between each async step of the upload\n",
              " * process.\n",
              " * @param {string} inputId Element ID of the input file picker element.\n",
              " * @param {string} outputId Element ID of the output display.\n",
              " * @return {!Iterable<!Object>} Iterable of next steps.\n",
              " */\n",
              "function* uploadFilesStep(inputId, outputId) {\n",
              "  const inputElement = document.getElementById(inputId);\n",
              "  inputElement.disabled = false;\n",
              "\n",
              "  const outputElement = document.getElementById(outputId);\n",
              "  outputElement.innerHTML = '';\n",
              "\n",
              "  const pickedPromise = new Promise((resolve) => {\n",
              "    inputElement.addEventListener('change', (e) => {\n",
              "      resolve(e.target.files);\n",
              "    });\n",
              "  });\n",
              "\n",
              "  const cancel = document.createElement('button');\n",
              "  inputElement.parentElement.appendChild(cancel);\n",
              "  cancel.textContent = 'Cancel upload';\n",
              "  const cancelPromise = new Promise((resolve) => {\n",
              "    cancel.onclick = () => {\n",
              "      resolve(null);\n",
              "    };\n",
              "  });\n",
              "\n",
              "  // Wait for the user to pick the files.\n",
              "  const files = yield {\n",
              "    promise: Promise.race([pickedPromise, cancelPromise]),\n",
              "    response: {\n",
              "      action: 'starting',\n",
              "    }\n",
              "  };\n",
              "\n",
              "  cancel.remove();\n",
              "\n",
              "  // Disable the input element since further picks are not allowed.\n",
              "  inputElement.disabled = true;\n",
              "\n",
              "  if (!files) {\n",
              "    return {\n",
              "      response: {\n",
              "        action: 'complete',\n",
              "      }\n",
              "    };\n",
              "  }\n",
              "\n",
              "  for (const file of files) {\n",
              "    const li = document.createElement('li');\n",
              "    li.append(span(file.name, {fontWeight: 'bold'}));\n",
              "    li.append(span(\n",
              "        `(${file.type || 'n/a'}) - ${file.size} bytes, ` +\n",
              "        `last modified: ${\n",
              "            file.lastModifiedDate ? file.lastModifiedDate.toLocaleDateString() :\n",
              "                                    'n/a'} - `));\n",
              "    const percent = span('0% done');\n",
              "    li.appendChild(percent);\n",
              "\n",
              "    outputElement.appendChild(li);\n",
              "\n",
              "    const fileDataPromise = new Promise((resolve) => {\n",
              "      const reader = new FileReader();\n",
              "      reader.onload = (e) => {\n",
              "        resolve(e.target.result);\n",
              "      };\n",
              "      reader.readAsArrayBuffer(file);\n",
              "    });\n",
              "    // Wait for the data to be ready.\n",
              "    let fileData = yield {\n",
              "      promise: fileDataPromise,\n",
              "      response: {\n",
              "        action: 'continue',\n",
              "      }\n",
              "    };\n",
              "\n",
              "    // Use a chunked sending to avoid message size limits. See b/62115660.\n",
              "    let position = 0;\n",
              "    do {\n",
              "      const length = Math.min(fileData.byteLength - position, MAX_PAYLOAD_SIZE);\n",
              "      const chunk = new Uint8Array(fileData, position, length);\n",
              "      position += length;\n",
              "\n",
              "      const base64 = btoa(String.fromCharCode.apply(null, chunk));\n",
              "      yield {\n",
              "        response: {\n",
              "          action: 'append',\n",
              "          file: file.name,\n",
              "          data: base64,\n",
              "        },\n",
              "      };\n",
              "\n",
              "      let percentDone = fileData.byteLength === 0 ?\n",
              "          100 :\n",
              "          Math.round((position / fileData.byteLength) * 100);\n",
              "      percent.textContent = `${percentDone}% done`;\n",
              "\n",
              "    } while (position < fileData.byteLength);\n",
              "  }\n",
              "\n",
              "  // All done.\n",
              "  yield {\n",
              "    response: {\n",
              "      action: 'complete',\n",
              "    }\n",
              "  };\n",
              "}\n",
              "\n",
              "scope.google = scope.google || {};\n",
              "scope.google.colab = scope.google.colab || {};\n",
              "scope.google.colab._files = {\n",
              "  _uploadFiles,\n",
              "  _uploadFilesContinue,\n",
              "};\n",
              "})(self);\n",
              "</script> "
            ]
          },
          "metadata": {}
        },
        {
          "output_type": "stream",
          "name": "stdout",
          "text": [
            "Saving color.rar to color.rar\n"
          ]
        }
      ]
    },
    {
      "cell_type": "code",
      "source": [
        "import os\n",
        "\n",
        "# Specify the name of the uploaded RAR file\n",
        "rar_file_name = \"color.rar\"\n",
        "\n",
        "# Create a directory to extract the contents\n",
        "extraction_dir = \"extracted_dataset\"\n",
        "os.makedirs(extraction_dir, exist_ok=True)\n",
        "\n",
        "# Unrar the dataset\n",
        "os.system(f'unrar x \"{rar_file_name}\" \"{extraction_dir}\"')\n",
        "\n",
        "# Verify the contents of the extracted directory\n",
        "os.listdir(extraction_dir)\n"
      ],
      "metadata": {
        "colab": {
          "base_uri": "https://localhost:8080/"
        },
        "id": "3cOUVGvQp2BF",
        "outputId": "639103bc-6952-41fe-f946-6bc668a409f5"
      },
      "execution_count": 5,
      "outputs": [
        {
          "output_type": "execute_result",
          "data": {
            "text/plain": [
              "['color']"
            ]
          },
          "metadata": {},
          "execution_count": 5
        }
      ]
    },
    {
      "cell_type": "code",
      "source": [
        "import os\n",
        "import cv2\n",
        "import numpy as np\n",
        "\n",
        "# Set the path to the directory containing images\n",
        "data_dir = \"/content/extracted_dataset/color/Potato___Early_blight\"\n",
        "\n",
        "# Define the target image size for resizing\n",
        "image_size = (224, 224)\n",
        "\n",
        "# Initialize lists to store data and labels\n",
        "data = []\n",
        "labels = []\n",
        "\n",
        "# Create a directory to save the preprocessed images\n",
        "output_dir = \"/content/preprocessed_images\"\n",
        "os.makedirs(output_dir, exist_ok=True)\n",
        "\n",
        "# Loop through the files in the directory\n",
        "for filename in os.listdir(data_dir):\n",
        "    # Construct the full path to the file\n",
        "    file_path = os.path.join(data_dir, filename)\n",
        "\n",
        "    # Check if it's a file (not a subdirectory) and if it's an image\n",
        "    if os.path.isfile(file_path) and filename.lower().endswith((\".jpg\", \".jpeg\", \".png\")):\n",
        "        # Read and preprocess the image\n",
        "        image = cv2.imread(file_path)\n",
        "        if image is not None:\n",
        "            # Convert to RGB color space\n",
        "            image = cv2.cvtColor(image, cv2.COLOR_BGR2RGB)\n",
        "\n",
        "            # Resize the image to the target size\n",
        "            image = cv2.resize(image, image_size)\n",
        "\n",
        "            # Normalize pixel values to the range [0, 1]\n",
        "            image = image.astype(\"float32\") / 255.0\n",
        "\n",
        "            # Append the preprocessed image to the data list\n",
        "            data.append(image)\n",
        "\n",
        "            # Assign the class label (in this case, \"Potato___Early_blight\")\n",
        "            labels.append(\"Potato___Early_blight\")\n",
        "\n",
        "            # Save the preprocessed image to the output directory\n",
        "            output_path = os.path.join(output_dir, filename)\n",
        "            cv2.imwrite(output_path, cv2.cvtColor((image * 255).astype(np.uint8), cv2.COLOR_RGB2BGR))\n",
        "\n",
        "# Convert the data and labels lists to NumPy arrays\n",
        "data = np.array(data)\n",
        "labels = np.array(labels)\n",
        "\n",
        "# Print the number of processed images and labels\n",
        "print(\"Number of images processed:\", len(data))\n",
        "print(\"Number of labels assigned:\", len(labels))\n",
        "\n",
        "# Print the path to the output directory where preprocessed images are saved\n",
        "print(\"Preprocessed images saved in:\", output_dir)\n"
      ],
      "metadata": {
        "colab": {
          "base_uri": "https://localhost:8080/"
        },
        "id": "LBB3dnhLsgGs",
        "outputId": "444b0656-9169-41ff-ae75-82eb1a3c3f55"
      },
      "execution_count": 6,
      "outputs": [
        {
          "output_type": "stream",
          "name": "stdout",
          "text": [
            "Number of images processed: 1000\n",
            "Number of labels assigned: 1000\n",
            "Preprocessed images saved in: /content/preprocessed_images\n"
          ]
        }
      ]
    },
    {
      "cell_type": "code",
      "source": [
        "import os\n",
        "import cv2\n",
        "import numpy as np\n",
        "\n",
        "# Set the path to the directory containing images\n",
        "data_dir = \"/content/extracted_dataset/color/Potato___Late_blight\"\n",
        "\n",
        "# Define the target image size for resizing\n",
        "image_size = (224, 224)\n",
        "\n",
        "# Initialize lists to store data and labels\n",
        "data = []\n",
        "labels = []\n",
        "\n",
        "# Create a directory to save the preprocessed images\n",
        "output_dir = \"/content/preprocessed1_images\"\n",
        "os.makedirs(output_dir, exist_ok=True)\n",
        "\n",
        "# Loop through the files in the directory\n",
        "for filename in os.listdir(data_dir):\n",
        "    # Construct the full path to the file\n",
        "    file_path = os.path.join(data_dir, filename)\n",
        "\n",
        "    # Check if it's a file (not a subdirectory) and if it's an image\n",
        "    if os.path.isfile(file_path) and filename.lower().endswith((\".jpg\", \".jpeg\", \".png\")):\n",
        "        # Read and preprocess the image\n",
        "        image = cv2.imread(file_path)\n",
        "        if image is not None:\n",
        "            # Convert to RGB color space\n",
        "            image = cv2.cvtColor(image, cv2.COLOR_BGR2RGB)\n",
        "\n",
        "            # Resize the image to the target size\n",
        "            image = cv2.resize(image, image_size)\n",
        "\n",
        "            # Normalize pixel values to the range [0, 1]\n",
        "            image = image.astype(\"float32\") / 255.0\n",
        "\n",
        "            # Append the preprocessed image to the data list\n",
        "            data.append(image)\n",
        "\n",
        "            # Assign the class label (in this case, \"Potato___Late_blight\")\n",
        "            labels.append(\"Potato___Late_blight\")\n",
        "\n",
        "            # Save the preprocessed image to the output directory\n",
        "            output_path = os.path.join(output_dir, filename)\n",
        "            cv2.imwrite(output_path, cv2.cvtColor((image * 255).astype(np.uint8), cv2.COLOR_RGB2BGR))\n",
        "\n",
        "# Convert the data and labels lists to NumPy arrays\n",
        "data = np.array(data)\n",
        "labels = np.array(labels)\n",
        "\n",
        "# Print the number of processed images and labels\n",
        "print(\"Number of images processed:\", len(data))\n",
        "print(\"Number of labels assigned:\", len(labels))\n",
        "\n",
        "# Print the path to the output directory where preprocessed images are saved\n",
        "print(\"Preprocessed images saved in:\", output_dir)\n"
      ],
      "metadata": {
        "colab": {
          "base_uri": "https://localhost:8080/"
        },
        "id": "RejFVLLfsgYa",
        "outputId": "0152934d-2e8e-4375-e3a5-dd553995ce03"
      },
      "execution_count": 8,
      "outputs": [
        {
          "output_type": "stream",
          "name": "stdout",
          "text": [
            "Number of images processed: 1000\n",
            "Number of labels assigned: 1000\n",
            "Preprocessed images saved in: /content/preprocessed1_images\n"
          ]
        }
      ]
    },
    {
      "cell_type": "code",
      "source": [
        "import os\n",
        "import cv2\n",
        "import numpy as np\n",
        "\n",
        "# Set the path to the directory containing images\n",
        "data_dir = \"/content/extracted_dataset/color/Potato___healthy\"\n",
        "\n",
        "# Define the target image size for resizing\n",
        "image_size = (224, 224)\n",
        "\n",
        "# Initialize lists to store data and labels\n",
        "data = []\n",
        "labels = []\n",
        "\n",
        "# Create a directory to save the preprocessed images\n",
        "output_dir = \"/content/preprocessed2_images\"\n",
        "os.makedirs(output_dir, exist_ok=True)\n",
        "\n",
        "# Loop through the files in the directory\n",
        "for filename in os.listdir(data_dir):\n",
        "    # Construct the full path to the file\n",
        "    file_path = os.path.join(data_dir, filename)\n",
        "\n",
        "    # Check if it's a file (not a subdirectory) and if it's an image\n",
        "    if os.path.isfile(file_path) and filename.lower().endswith((\".jpg\", \".jpeg\", \".png\")):\n",
        "        # Read and preprocess the image\n",
        "        image = cv2.imread(file_path)\n",
        "        if image is not None:\n",
        "            # Convert to RGB color space\n",
        "            image = cv2.cvtColor(image, cv2.COLOR_BGR2RGB)\n",
        "\n",
        "            # Resize the image to the target size\n",
        "            image = cv2.resize(image, image_size)\n",
        "\n",
        "            # Normalize pixel values to the range [0, 1]\n",
        "            image = image.astype(\"float32\") / 255.0\n",
        "\n",
        "            # Append the preprocessed image to the data list\n",
        "            data.append(image)\n",
        "\n",
        "            # Assign the class label (in this case, \"Potato___healthy\")\n",
        "            labels.append(\"Potato___healthy\")\n",
        "\n",
        "            # Save the preprocessed image to the output directory\n",
        "            output_path = os.path.join(output_dir, filename)\n",
        "            cv2.imwrite(output_path, cv2.cvtColor((image * 255).astype(np.uint8), cv2.COLOR_RGB2BGR))\n",
        "\n",
        "# Convert the data and labels lists to NumPy arrays\n",
        "data = np.array(data)\n",
        "labels = np.array(labels)\n",
        "\n",
        "# Print the number of processed images and labels\n",
        "print(\"Number of images processed:\", len(data))\n",
        "print(\"Number of labels assigned:\", len(labels))\n",
        "\n",
        "# Print the path to the output directory where preprocessed images are saved\n",
        "print(\"Preprocessed images saved in:\", output_dir)\n"
      ],
      "metadata": {
        "colab": {
          "base_uri": "https://localhost:8080/"
        },
        "id": "plz0ms8Nsslq",
        "outputId": "1b3c70dc-735d-4155-8722-73768db060b8"
      },
      "execution_count": 9,
      "outputs": [
        {
          "output_type": "stream",
          "name": "stdout",
          "text": [
            "Number of images processed: 152\n",
            "Number of labels assigned: 152\n",
            "Preprocessed images saved in: /content/preprocessed2_images\n"
          ]
        }
      ]
    },
    {
      "cell_type": "code",
      "source": [
        "from sklearn.model_selection import train_test_split\n",
        "\n",
        "# Define the ratio for splitting the data (adjust as needed)\n",
        "train_ratio = 0.8\n",
        "validation_ratio = 0.1\n",
        "test_ratio = 0.1\n",
        "\n",
        "# Initialize lists to store data and labels for all three folders\n",
        "all_data = []\n",
        "all_labels = []\n",
        "\n",
        "# List of folder paths\n",
        "folders = [\"preprocessed_images\", \"preprocessed1_images\", \"preprocessed2_images\"]\n",
        "\n",
        "# Iterate through each folder\n",
        "for folder in folders:\n",
        "    data_dir = os.path.join(\"/content\", folder)\n",
        "\n",
        "    # Initialize lists to store data and labels for this folder\n",
        "    data = []\n",
        "    labels = []\n",
        "\n",
        "    # Loop through the files in the directory\n",
        "    for filename in os.listdir(data_dir):\n",
        "        file_path = os.path.join(data_dir, filename)\n",
        "\n",
        "        if os.path.isfile(file_path) and filename.lower().endswith((\".jpg\", \".jpeg\", \".png\")):\n",
        "            image = cv2.imread(file_path)\n",
        "            if image is not None:\n",
        "                image = cv2.cvtColor(image, cv2.COLOR_BGR2RGB)\n",
        "                image = cv2.resize(image, image_size)\n",
        "                image = image.astype(\"float32\") / 255.0\n",
        "                data.append(image)\n",
        "                labels.append(folder)  # Use folder name as the label\n",
        "\n",
        "    # Convert the data and labels lists to NumPy arrays\n",
        "    data = np.array(data)\n",
        "    labels = np.array(labels)\n",
        "\n",
        "    # Split the data for this folder\n",
        "    X_train, X_temp, y_train, y_temp = train_test_split(data, labels, test_size=(1 - train_ratio), random_state=42)\n",
        "    X_val, X_test, y_val, y_test = train_test_split(X_temp, y_temp, test_size=test_ratio / (test_ratio + validation_ratio), random_state=42)\n",
        "\n",
        "    # Append the data and labels for this folder to the all_data and all_labels lists\n",
        "    all_data.append(X_train)\n",
        "    all_data.append(X_val)\n",
        "    all_data.append(X_test)\n",
        "    all_labels.append(y_train)\n",
        "    all_labels.append(y_val)\n",
        "    all_labels.append(y_test)\n",
        "\n",
        "# Combine all the data and labels from the three folders\n",
        "data = np.concatenate(all_data, axis=0)\n",
        "labels = np.concatenate(all_labels, axis=0)\n",
        "\n",
        "# Print the sizes of the resulting sets\n",
        "print(\"Training set size:\", len(X_train))\n",
        "print(\"Validation set size:\", len(X_val))\n",
        "print(\"Test set size:\", len(X_test))\n"
      ],
      "metadata": {
        "colab": {
          "base_uri": "https://localhost:8080/"
        },
        "id": "1wJ0uZU0su7I",
        "outputId": "032c97af-d510-4a8f-9c55-5c6f2d1d6fb6"
      },
      "execution_count": 10,
      "outputs": [
        {
          "output_type": "stream",
          "name": "stdout",
          "text": [
            "Training set size: 121\n",
            "Validation set size: 15\n",
            "Test set size: 16\n"
          ]
        }
      ]
    },
    {
      "cell_type": "code",
      "source": [
        "import os\n",
        "import cv2\n",
        "import numpy as np\n",
        "from sklearn.model_selection import train_test_split\n",
        "import tensorflow as tf\n",
        "from tensorflow import keras\n",
        "from tensorflow.keras import layers\n",
        "\n",
        "# Set the paths to the directories containing preprocessed images\n",
        "data_dirs = [\n",
        "    \"/content/preprocessed1_images\",\n",
        "    \"/content/preprocessed2_images\",\n",
        "    \"/content/preprocessed_images\"  # Add paths to additional subfolders as needed\n",
        "]\n",
        "\n",
        "# Define the target image size for resizing\n",
        "image_size = (224, 224)\n",
        "\n",
        "# Initialize lists to store data and labels\n",
        "data = []\n",
        "labels = []\n",
        "\n",
        "# Create a mapping between class names (subfolder names) and integer labels\n",
        "class_to_label = {}\n",
        "current_label = 0\n",
        "\n",
        "# Loop through the subfolders\n",
        "for data_dir in data_dirs:\n",
        "    # Get the class name (subfolder name) from the directory path\n",
        "    class_name = os.path.basename(data_dir)\n",
        "\n",
        "    # Check if the class name is already in the mapping\n",
        "    if class_name not in class_to_label:\n",
        "        # Assign a unique integer label to the class\n",
        "        class_to_label[class_name] = current_label\n",
        "        current_label += 1\n",
        "\n",
        "    # Loop through the files in the subfolder\n",
        "    for filename in os.listdir(data_dir):\n",
        "        file_path = os.path.join(data_dir, filename)\n",
        "\n",
        "        # Check if it's a file (not a subdirectory) and if it's an image\n",
        "        if os.path.isfile(file_path) and filename.lower().endswith((\".jpg\", \".jpeg\", \".png\")):\n",
        "            image = cv2.imread(file_path)\n",
        "            if image is not None:\n",
        "                # Convert to RGB color space\n",
        "                image = cv2.cvtColor(image, cv2.COLOR_BGR2RGB)\n",
        "\n",
        "                # Resize the image to the target size\n",
        "                image = cv2.resize(image, image_size)\n",
        "\n",
        "                # Normalize pixel values to the range [0, 1]\n",
        "                image = image.astype(\"float32\") / 255.0\n",
        "\n",
        "                # Get the integer label for the class (subfolder)\n",
        "                label = class_to_label[class_name]\n",
        "\n",
        "                # Append the preprocessed image to the data list\n",
        "                data.append(image)\n",
        "\n",
        "                # Append the integer label to the labels list\n",
        "                labels.append(label)\n",
        "\n",
        "# Convert the data and labels lists to NumPy arrays\n",
        "data = np.array(data)\n",
        "labels = np.array(labels, dtype=np.int32)  # Convert labels to integers\n",
        "\n",
        "# Split the data into training, validation, and test sets\n",
        "X_train, X_temp, y_train, y_temp = train_test_split(data, labels, test_size=0.2, random_state=42)\n",
        "X_val, X_test, y_val, y_test = train_test_split(X_temp, y_temp, test_size=0.5, random_state=42)\n",
        "\n",
        "# Define the CNN model\n",
        "model = keras.Sequential([\n",
        "    layers.Conv2D(32, (3, 3), activation='relu', input_shape=(224, 224, 3)),\n",
        "    layers.MaxPooling2D((2, 2)),\n",
        "    layers.Flatten(),\n",
        "    layers.Dense(128, activation='relu'),\n",
        "    layers.Dense(len(class_to_label), activation='softmax')  # Output units match the number of classes\n",
        "])\n",
        "\n",
        "# Compile the model\n",
        "model.compile(optimizer='adam', loss='sparse_categorical_crossentropy', metrics=['accuracy'])\n",
        "\n",
        "# Train the model on the training set\n",
        "history = model.fit(X_train, y_train, epochs=10, validation_data=(X_val, y_val))\n",
        "\n",
        "# Evaluate the model on the test set\n",
        "test_loss, test_accuracy = model.evaluate(X_test, y_test)\n",
        "print(\"Test accuracy:\", test_accuracy)\n",
        "\n",
        "# Save the trained model\n",
        "model.save(\"plant_disease_model.h5\")\n",
        "\n",
        "# Print the number of processed images and labels\n",
        "print(\"Number of images processed:\", len(data))\n",
        "print(\"Number of labels assigned:\", len(labels))\n"
      ],
      "metadata": {
        "colab": {
          "base_uri": "https://localhost:8080/"
        },
        "id": "kJPVF3rrszha",
        "outputId": "70dbb385-5466-4fd2-cc5d-2e3f679cfe7f"
      },
      "execution_count": null,
      "outputs": [
        {
          "output_type": "stream",
          "name": "stdout",
          "text": [
            "Epoch 1/10\n",
            "54/54 [==============================] - 126s 2s/step - loss: 12.3975 - accuracy: 0.5909 - val_loss: 0.4894 - val_accuracy: 0.7767\n",
            "Epoch 2/10\n",
            "54/54 [==============================] - 120s 2s/step - loss: 0.3441 - accuracy: 0.8861 - val_loss: 0.2374 - val_accuracy: 0.9302\n",
            "Epoch 3/10\n",
            "27/54 [==============>...............] - ETA: 55s - loss: 0.1846 - accuracy: 0.9525"
          ]
        }
      ]
    },
    {
      "cell_type": "code",
      "source": [
        "# Save the trained model in the native Keras format\n",
        "model.save(\"plant_disease_model.keras\")"
      ],
      "metadata": {
        "id": "E-WxY6aKxrVQ"
      },
      "execution_count": null,
      "outputs": []
    },
    {
      "cell_type": "code",
      "source": [
        "model.save(\"/content/plant_disease_model.keras\")\n"
      ],
      "metadata": {
        "id": "RVuYQbEWxwSV"
      },
      "execution_count": null,
      "outputs": []
    },
    {
      "cell_type": "code",
      "source": [
        "from tensorflow import keras\n",
        "\n",
        "# Load the saved model\n",
        "loaded_model = keras.models.load_model(\"plant_disease_model.keras\")\n"
      ],
      "metadata": {
        "id": "68K58vl-x1l7"
      },
      "execution_count": null,
      "outputs": []
    },
    {
      "cell_type": "code",
      "source": [
        "# Save in the native Keras format\n",
        "loaded_model.save(\"/content/final_plant_disease_model.keras\")\n",
        "\n",
        "# Or save as a TensorFlow SavedModel\n",
        "tf.saved_model.save(loaded_model, \"final_plant_disease_model\")"
      ],
      "metadata": {
        "id": "JbsLX_Vbx5r5"
      },
      "execution_count": null,
      "outputs": []
    },
    {
      "cell_type": "code",
      "source": [
        "model.save('your_model')"
      ],
      "metadata": {
        "id": "Mt4douNJx7RV"
      },
      "execution_count": null,
      "outputs": []
    },
    {
      "cell_type": "code",
      "source": [
        "model.save('/content/my_model.h5')"
      ],
      "metadata": {
        "colab": {
          "base_uri": "https://localhost:8080/"
        },
        "id": "6lqQM5Wux_dK",
        "outputId": "ae07133a-e3c2-441b-a14d-23450651a49f"
      },
      "execution_count": null,
      "outputs": [
        {
          "output_type": "stream",
          "name": "stderr",
          "text": [
            "/usr/local/lib/python3.10/dist-packages/keras/src/engine/training.py:3079: UserWarning: You are saving your model as an HDF5 file via `model.save()`. This file format is considered legacy. We recommend using instead the native Keras format, e.g. `model.save('my_model.keras')`.\n",
            "  saving_api.save_model(\n"
          ]
        }
      ]
    },
    {
      "cell_type": "code",
      "source": [
        "from keras.models import load_model\n",
        "\n",
        "loaded_model = load_model('/content/my_model.h5')"
      ],
      "metadata": {
        "id": "uSwQ_Q3LyHEH"
      },
      "execution_count": null,
      "outputs": []
    },
    {
      "cell_type": "code",
      "source": [
        "from keras.models import load_model\n",
        "\n",
        "loaded_model = tf.keras.models.load_model('your_model')  # Load the model from a SavedModel\n"
      ],
      "metadata": {
        "id": "TpbNb-ULyMCm"
      },
      "execution_count": null,
      "outputs": []
    },
    {
      "cell_type": "code",
      "source": [
        "import cv2\n",
        "import numpy as np\n",
        "import tensorflow as tf\n",
        "\n",
        "# Load the pre-trained model\n",
        "loaded_model = tf.keras.models.load_model(\"/content/final_plant_disease_model.keras\")\n",
        "\n",
        "# Define the path to your new image\n",
        "new_image_path = \"/content/preprocessed1_images/0051e5e8-d1c4-4a84-bf3a-a426cdad6285___RS_LB 4640.JPG\"\n",
        "\n",
        "# Load and preprocess the new image\n",
        "new_image = cv2.imread(new_image_path)\n",
        "new_image = cv2.cvtColor(new_image, cv2.COLOR_BGR2RGB)\n",
        "new_image = cv2.resize(new_image, (224, 224))\n",
        "new_image = new_image.astype(\"float32\") / 255.0\n",
        "new_image = np.expand_dims(new_image, axis=0)\n",
        "\n",
        "# Make predictions on the new image\n",
        "predictions = loaded_model.predict(new_image)\n",
        "\n",
        "# Map the predicted class label to class name (replace this mapping with your own)\n",
        "class_names = {\n",
        "    0: \"Late_blight\",\n",
        "    1: \"healthy\",\n",
        "    2: \"Early_blight\",\n",
        "    # Add more class labels as needed\n",
        "}\n",
        "\n",
        "predicted_class_label = np.argmax(predictions, axis=1)[0]\n",
        "predicted_class_name = class_names.get(predicted_class_label, \"Unknown\")\n",
        "\n",
        "# Print the predicted class label and name\n",
        "print(\"Predicted Class Label:\", predicted_class_label)\n",
        "print(\"Predicted Class Name:\", predicted_class_name)\n"
      ],
      "metadata": {
        "colab": {
          "base_uri": "https://localhost:8080/"
        },
        "id": "sbY2SIqZyY81",
        "outputId": "74e42220-395e-40c5-f4a0-b85bcb298c18"
      },
      "execution_count": null,
      "outputs": [
        {
          "output_type": "stream",
          "name": "stdout",
          "text": [
            "1/1 [==============================] - 0s 193ms/step\n",
            "Predicted Class Label: 0\n",
            "Predicted Class Name: Late_blight\n"
          ]
        }
      ]
    },
    {
      "cell_type": "code",
      "source": [
        "!tensorflowjs_converter --input_format keras \"/content/final_plant_disease_model.keras\" \"/content/tfjs_model\"\n"
      ],
      "metadata": {
        "colab": {
          "base_uri": "https://localhost:8080/"
        },
        "id": "bKP53bCFykJu",
        "outputId": "208da8bd-a64e-47ed-e266-21ad663a9903"
      },
      "execution_count": null,
      "outputs": [
        {
          "output_type": "stream",
          "name": "stdout",
          "text": [
            "2023-10-09 18:54:36.072603: E tensorflow/compiler/xla/stream_executor/cuda/cuda_dnn.cc:9342] Unable to register cuDNN factory: Attempting to register factory for plugin cuDNN when one has already been registered\n",
            "2023-10-09 18:54:36.072721: E tensorflow/compiler/xla/stream_executor/cuda/cuda_fft.cc:609] Unable to register cuFFT factory: Attempting to register factory for plugin cuFFT when one has already been registered\n",
            "2023-10-09 18:54:36.073039: E tensorflow/compiler/xla/stream_executor/cuda/cuda_blas.cc:1518] Unable to register cuBLAS factory: Attempting to register factory for plugin cuBLAS when one has already been registered\n",
            "2023-10-09 18:54:38.652451: W tensorflow/compiler/tf2tensorrt/utils/py_utils.cc:38] TF-TRT Warning: Could not find TensorRT\n",
            "Traceback (most recent call last):\n",
            "  File \"/usr/local/bin/tensorflowjs_converter\", line 8, in <module>\n",
            "    sys.exit(pip_main())\n",
            "  File \"/usr/local/lib/python3.10/dist-packages/tensorflowjs/converters/converter.py\", line 958, in pip_main\n",
            "    main([' '.join(sys.argv[1:])])\n",
            "  File \"/usr/local/lib/python3.10/dist-packages/tensorflowjs/converters/converter.py\", line 962, in main\n",
            "    convert(argv[0].split(' '))\n",
            "  File \"/usr/local/lib/python3.10/dist-packages/tensorflowjs/converters/converter.py\", line 948, in convert\n",
            "    _dispatch_converter(input_format, output_format, args, quantization_dtype_map,\n",
            "  File \"/usr/local/lib/python3.10/dist-packages/tensorflowjs/converters/converter.py\", line 618, in _dispatch_converter\n",
            "    dispatch_keras_h5_to_tfjs_layers_model_conversion(\n",
            "  File \"/usr/local/lib/python3.10/dist-packages/tensorflowjs/converters/converter.py\", line 83, in dispatch_keras_h5_to_tfjs_layers_model_conversion\n",
            "    h5_file = h5py.File(h5_path, 'r')\n",
            "  File \"/usr/local/lib/python3.10/dist-packages/h5py/_hl/files.py\", line 567, in __init__\n",
            "    fid = make_fid(name, mode, userblock_size, fapl, fcpl, swmr=swmr)\n",
            "  File \"/usr/local/lib/python3.10/dist-packages/h5py/_hl/files.py\", line 231, in make_fid\n",
            "    fid = h5f.open(name, flags, fapl=fapl)\n",
            "  File \"h5py/_objects.pyx\", line 54, in h5py._objects.with_phil.wrapper\n",
            "  File \"h5py/_objects.pyx\", line 55, in h5py._objects.with_phil.wrapper\n",
            "  File \"h5py/h5f.pyx\", line 106, in h5py.h5f.open\n",
            "OSError: Unable to open file (file signature not found)\n"
          ]
        }
      ]
    },
    {
      "cell_type": "code",
      "source": [
        "import os\n",
        "import subprocess\n",
        "\n",
        "# Define paths\n",
        "keras_model_path = \"/content/final_plant_disease_model.keras\"  # Replace with your Keras model path\n",
        "output_directory = \"/content/output_directory\"  # Specify the output directory in /content\n",
        "\n",
        "# Ensure the output directory exists, create it if it doesn't\n",
        "if not os.path.exists(output_directory):\n",
        "    os.makedirs(output_directory)\n",
        "\n",
        "# Use tensorflowjs_converter to convert the Keras model\n",
        "conversion_command = [\n",
        "    \"tensorflowjs_converter\",\n",
        "    \"--input_format=keras\",\n",
        "    keras_model_path,\n",
        "    output_directory\n",
        "]\n",
        "\n",
        "# Run the conversion command\n",
        "subprocess.run(conversion_command)\n",
        "\n",
        "print(\"Conversion completed. Converted model files are in:\", output_directory)\n"
      ],
      "metadata": {
        "colab": {
          "base_uri": "https://localhost:8080/"
        },
        "id": "AZPXueP20bIg",
        "outputId": "a85cac22-1afe-4588-faf2-d9f2d3715201"
      },
      "execution_count": null,
      "outputs": [
        {
          "output_type": "stream",
          "name": "stdout",
          "text": [
            "Conversion completed. Converted model files are in: /content/output_directory\n"
          ]
        }
      ]
    },
    {
      "cell_type": "code",
      "source": [
        "import os\n",
        "\n",
        "output_directory = \"/content/output_directory\"\n",
        "\n",
        "# List the contents of the output directory\n",
        "os.listdir(output_directory)\n"
      ],
      "metadata": {
        "colab": {
          "base_uri": "https://localhost:8080/"
        },
        "id": "J61AqKBE1nPO",
        "outputId": "224fcfcb-e442-4f33-bef7-342d4c7cf71b"
      },
      "execution_count": null,
      "outputs": [
        {
          "output_type": "execute_result",
          "data": {
            "text/plain": [
              "[]"
            ]
          },
          "metadata": {},
          "execution_count": 21
        }
      ]
    },
    {
      "cell_type": "code",
      "source": [
        "import os\n",
        "import subprocess\n",
        "\n",
        "# Define paths\n",
        "keras_model_path = \"/content/final_plant_disease_model.keras\"  # Replace with the actual path to your Keras model\n",
        "output_directory = \"/content/output_directory\"  # Specify the output directory in /content\n",
        "\n",
        "# Ensure the output directory exists, create it if it doesn't\n",
        "if not os.path.exists(output_directory):\n",
        "    os.makedirs(output_directory)\n",
        "\n",
        "# Use tensorflowjs_converter to convert the Keras model\n",
        "conversion_command = [\n",
        "    \"tensorflowjs_converter\",\n",
        "    \"--input_format=keras\",\n",
        "    keras_model_path,\n",
        "    output_directory\n",
        "]\n",
        "\n",
        "# Run the conversion command and capture the result\n",
        "result = subprocess.run(conversion_command, stdout=subprocess.PIPE, stderr=subprocess.PIPE)\n",
        "\n",
        "# Check if the conversion was successful\n",
        "if result.returncode == 0:\n",
        "    print(\"Conversion completed. Converted model files are in:\", output_directory)\n",
        "else:\n",
        "    print(\"Conversion failed. Error message:\")\n",
        "    print(result.stderr.decode(\"utf-8\"))\n"
      ],
      "metadata": {
        "colab": {
          "base_uri": "https://localhost:8080/"
        },
        "id": "veX8JRHm2ZsF",
        "outputId": "c84b682a-3c89-431e-82d8-86b2094c896e"
      },
      "execution_count": null,
      "outputs": [
        {
          "output_type": "stream",
          "name": "stdout",
          "text": [
            "Conversion failed. Error message:\n",
            "2023-10-09 19:11:13.048011: E tensorflow/compiler/xla/stream_executor/cuda/cuda_dnn.cc:9342] Unable to register cuDNN factory: Attempting to register factory for plugin cuDNN when one has already been registered\n",
            "2023-10-09 19:11:13.048114: E tensorflow/compiler/xla/stream_executor/cuda/cuda_fft.cc:609] Unable to register cuFFT factory: Attempting to register factory for plugin cuFFT when one has already been registered\n",
            "2023-10-09 19:11:13.048222: E tensorflow/compiler/xla/stream_executor/cuda/cuda_blas.cc:1518] Unable to register cuBLAS factory: Attempting to register factory for plugin cuBLAS when one has already been registered\n",
            "2023-10-09 19:11:15.689071: W tensorflow/compiler/tf2tensorrt/utils/py_utils.cc:38] TF-TRT Warning: Could not find TensorRT\n",
            "Traceback (most recent call last):\n",
            "  File \"/usr/local/bin/tensorflowjs_converter\", line 8, in <module>\n",
            "    sys.exit(pip_main())\n",
            "  File \"/usr/local/lib/python3.10/dist-packages/tensorflowjs/converters/converter.py\", line 958, in pip_main\n",
            "    main([' '.join(sys.argv[1:])])\n",
            "  File \"/usr/local/lib/python3.10/dist-packages/tensorflowjs/converters/converter.py\", line 962, in main\n",
            "    convert(argv[0].split(' '))\n",
            "  File \"/usr/local/lib/python3.10/dist-packages/tensorflowjs/converters/converter.py\", line 948, in convert\n",
            "    _dispatch_converter(input_format, output_format, args, quantization_dtype_map,\n",
            "  File \"/usr/local/lib/python3.10/dist-packages/tensorflowjs/converters/converter.py\", line 618, in _dispatch_converter\n",
            "    dispatch_keras_h5_to_tfjs_layers_model_conversion(\n",
            "  File \"/usr/local/lib/python3.10/dist-packages/tensorflowjs/converters/converter.py\", line 83, in dispatch_keras_h5_to_tfjs_layers_model_conversion\n",
            "    h5_file = h5py.File(h5_path, 'r')\n",
            "  File \"/usr/local/lib/python3.10/dist-packages/h5py/_hl/files.py\", line 567, in __init__\n",
            "    fid = make_fid(name, mode, userblock_size, fapl, fcpl, swmr=swmr)\n",
            "  File \"/usr/local/lib/python3.10/dist-packages/h5py/_hl/files.py\", line 231, in make_fid\n",
            "    fid = h5f.open(name, flags, fapl=fapl)\n",
            "  File \"h5py/_objects.pyx\", line 54, in h5py._objects.with_phil.wrapper\n",
            "  File \"h5py/_objects.pyx\", line 55, in h5py._objects.with_phil.wrapper\n",
            "  File \"h5py/h5f.pyx\", line 106, in h5py.h5f.open\n",
            "OSError: Unable to open file (file signature not found)\n",
            "\n"
          ]
        }
      ]
    },
    {
      "cell_type": "code",
      "source": [
        "import os\n",
        "import subprocess\n",
        "\n",
        "# Set CUDA_VISIBLE_DEVICES to an empty string to disable GPU\n",
        "os.environ[\"CUDA_VISIBLE_DEVICES\"] = \"\"\n",
        "\n",
        "# Define paths\n",
        "keras_model_path = \"/content/final_plant_disease_model.keras\"  # Replace with the actual path to your Keras model\n",
        "output_directory = \"/content/output_directory\"  # Specify the output directory in /content\n",
        "\n",
        "# Ensure the output directory exists, create it if it doesn't\n",
        "if not os.path.exists(output_directory):\n",
        "    os.makedirs(output_directory)\n",
        "\n",
        "# Use tensorflowjs_converter to convert the Keras model\n",
        "conversion_command = [\n",
        "    \"tensorflowjs_converter\",\n",
        "    \"--input_format=keras\",\n",
        "    keras_model_path,\n",
        "    output_directory\n",
        "]\n",
        "\n",
        "# Run the conversion command and capture the result\n",
        "result = subprocess.run(conversion_command, stdout=subprocess.PIPE, stderr=subprocess.PIPE)\n",
        "\n",
        "# Check if the conversion was successful\n",
        "if result.returncode == 0:\n",
        "    print(\"Conversion completed. Converted model files are in:\", output_directory)\n",
        "else:\n",
        "    print(\"Conversion failed. Error message:\")\n",
        "    print(result.stderr.decode(\"utf-8\"))\n"
      ],
      "metadata": {
        "colab": {
          "base_uri": "https://localhost:8080/"
        },
        "id": "RSDLWpCZ2xGs",
        "outputId": "088be8fe-22ec-456f-e88b-4b1ab3716263"
      },
      "execution_count": null,
      "outputs": [
        {
          "output_type": "stream",
          "name": "stdout",
          "text": [
            "Conversion failed. Error message:\n",
            "2023-10-09 19:12:45.774103: E tensorflow/compiler/xla/stream_executor/cuda/cuda_dnn.cc:9342] Unable to register cuDNN factory: Attempting to register factory for plugin cuDNN when one has already been registered\n",
            "2023-10-09 19:12:45.774262: E tensorflow/compiler/xla/stream_executor/cuda/cuda_fft.cc:609] Unable to register cuFFT factory: Attempting to register factory for plugin cuFFT when one has already been registered\n",
            "2023-10-09 19:12:45.774307: E tensorflow/compiler/xla/stream_executor/cuda/cuda_blas.cc:1518] Unable to register cuBLAS factory: Attempting to register factory for plugin cuBLAS when one has already been registered\n",
            "2023-10-09 19:12:47.185752: W tensorflow/compiler/tf2tensorrt/utils/py_utils.cc:38] TF-TRT Warning: Could not find TensorRT\n",
            "Traceback (most recent call last):\n",
            "  File \"/usr/local/bin/tensorflowjs_converter\", line 8, in <module>\n",
            "    sys.exit(pip_main())\n",
            "  File \"/usr/local/lib/python3.10/dist-packages/tensorflowjs/converters/converter.py\", line 958, in pip_main\n",
            "    main([' '.join(sys.argv[1:])])\n",
            "  File \"/usr/local/lib/python3.10/dist-packages/tensorflowjs/converters/converter.py\", line 962, in main\n",
            "    convert(argv[0].split(' '))\n",
            "  File \"/usr/local/lib/python3.10/dist-packages/tensorflowjs/converters/converter.py\", line 948, in convert\n",
            "    _dispatch_converter(input_format, output_format, args, quantization_dtype_map,\n",
            "  File \"/usr/local/lib/python3.10/dist-packages/tensorflowjs/converters/converter.py\", line 618, in _dispatch_converter\n",
            "    dispatch_keras_h5_to_tfjs_layers_model_conversion(\n",
            "  File \"/usr/local/lib/python3.10/dist-packages/tensorflowjs/converters/converter.py\", line 83, in dispatch_keras_h5_to_tfjs_layers_model_conversion\n",
            "    h5_file = h5py.File(h5_path, 'r')\n",
            "  File \"/usr/local/lib/python3.10/dist-packages/h5py/_hl/files.py\", line 567, in __init__\n",
            "    fid = make_fid(name, mode, userblock_size, fapl, fcpl, swmr=swmr)\n",
            "  File \"/usr/local/lib/python3.10/dist-packages/h5py/_hl/files.py\", line 231, in make_fid\n",
            "    fid = h5f.open(name, flags, fapl=fapl)\n",
            "  File \"h5py/_objects.pyx\", line 54, in h5py._objects.with_phil.wrapper\n",
            "  File \"h5py/_objects.pyx\", line 55, in h5py._objects.with_phil.wrapper\n",
            "  File \"h5py/h5f.pyx\", line 106, in h5py.h5f.open\n",
            "OSError: Unable to open file (file signature not found)\n",
            "\n"
          ]
        }
      ]
    },
    {
      "cell_type": "code",
      "source": [
        "# Install TensorFlow\n",
        "import tensorflowjs as tfjs\n",
        "\n",
        "# Load your Keras model\n",
        "model = tf.keras.models.load_model(\"/content/final_plant_disease_model.keras\")  # Replace with the actual path\n",
        "\n",
        "# Convert the model to TensorFlow.js format\n",
        "tfjs.converters.save_keras_model(model, '/content/tfjs_model')\n",
        "\n",
        "# Compress the converted model files into a ZIP archive\n",
        "import shutil\n",
        "shutil.make_archive(\"/content/tfjs_model\", 'zip', \"/content/tfjs_model\")\n",
        "\n",
        "# Move the ZIP archive to the desired location\n",
        "shutil.move(\"/content/tfjs_model.zip\", \"/content/output_directory\")\n",
        "\n",
        "print(\"Conversion completed. The ZIP archive is saved in /content/output_directory.\")\n"
      ],
      "metadata": {
        "colab": {
          "base_uri": "https://localhost:8080/"
        },
        "id": "HBEmDWfA3P69",
        "outputId": "72e910fc-71ae-44c6-eda0-1b35580fe26f"
      },
      "execution_count": null,
      "outputs": [
        {
          "output_type": "stream",
          "name": "stderr",
          "text": [
            "/usr/local/lib/python3.10/dist-packages/keras/src/engine/training.py:3079: UserWarning: You are saving your model as an HDF5 file via `model.save()`. This file format is considered legacy. We recommend using instead the native Keras format, e.g. `model.save('my_model.keras')`.\n",
            "  saving_api.save_model(\n"
          ]
        },
        {
          "output_type": "stream",
          "name": "stdout",
          "text": [
            "Conversion completed. The ZIP archive is saved in /content/output_directory.\n"
          ]
        }
      ]
    },
    {
      "cell_type": "code",
      "source": [
        "import shutil\n",
        "\n",
        "# Define the source directory where your TensorFlow.js model files are located\n",
        "source_directory = \"/content/output_directory\"  # Replace with your source directory\n",
        "\n",
        "# Define the destination directory as your desktop\n",
        "destination_directory = r\"Pictures\"  # Replace USER with your Windows username\n",
        "\n",
        "# Copy the entire source directory to the destination directory\n",
        "shutil.copytree(source_directory, destination_directory)\n",
        "\n",
        "print(\"Model files downloaded to:\", destination_directory)\n"
      ],
      "metadata": {
        "colab": {
          "base_uri": "https://localhost:8080/",
          "height": 390
        },
        "id": "4mZiBhhS5Lem",
        "outputId": "6e50c465-708d-4555-92cf-3bbe3836ba6d"
      },
      "execution_count": null,
      "outputs": [
        {
          "output_type": "error",
          "ename": "FileExistsError",
          "evalue": "ignored",
          "traceback": [
            "\u001b[0;31m---------------------------------------------------------------------------\u001b[0m",
            "\u001b[0;31mFileExistsError\u001b[0m                           Traceback (most recent call last)",
            "\u001b[0;32m<ipython-input-28-60d640f9513a>\u001b[0m in \u001b[0;36m<cell line: 10>\u001b[0;34m()\u001b[0m\n\u001b[1;32m      8\u001b[0m \u001b[0;34m\u001b[0m\u001b[0m\n\u001b[1;32m      9\u001b[0m \u001b[0;31m# Copy the entire source directory to the destination directory\u001b[0m\u001b[0;34m\u001b[0m\u001b[0;34m\u001b[0m\u001b[0m\n\u001b[0;32m---> 10\u001b[0;31m \u001b[0mshutil\u001b[0m\u001b[0;34m.\u001b[0m\u001b[0mcopytree\u001b[0m\u001b[0;34m(\u001b[0m\u001b[0msource_directory\u001b[0m\u001b[0;34m,\u001b[0m \u001b[0mdestination_directory\u001b[0m\u001b[0;34m)\u001b[0m\u001b[0;34m\u001b[0m\u001b[0;34m\u001b[0m\u001b[0m\n\u001b[0m\u001b[1;32m     11\u001b[0m \u001b[0;34m\u001b[0m\u001b[0m\n\u001b[1;32m     12\u001b[0m \u001b[0mprint\u001b[0m\u001b[0;34m(\u001b[0m\u001b[0;34m\"Model files downloaded to:\"\u001b[0m\u001b[0;34m,\u001b[0m \u001b[0mdestination_directory\u001b[0m\u001b[0;34m)\u001b[0m\u001b[0;34m\u001b[0m\u001b[0;34m\u001b[0m\u001b[0m\n",
            "\u001b[0;32m/usr/lib/python3.10/shutil.py\u001b[0m in \u001b[0;36mcopytree\u001b[0;34m(src, dst, symlinks, ignore, copy_function, ignore_dangling_symlinks, dirs_exist_ok)\u001b[0m\n\u001b[1;32m    557\u001b[0m     \u001b[0;32mwith\u001b[0m \u001b[0mos\u001b[0m\u001b[0;34m.\u001b[0m\u001b[0mscandir\u001b[0m\u001b[0;34m(\u001b[0m\u001b[0msrc\u001b[0m\u001b[0;34m)\u001b[0m \u001b[0;32mas\u001b[0m \u001b[0mitr\u001b[0m\u001b[0;34m:\u001b[0m\u001b[0;34m\u001b[0m\u001b[0;34m\u001b[0m\u001b[0m\n\u001b[1;32m    558\u001b[0m         \u001b[0mentries\u001b[0m \u001b[0;34m=\u001b[0m \u001b[0mlist\u001b[0m\u001b[0;34m(\u001b[0m\u001b[0mitr\u001b[0m\u001b[0;34m)\u001b[0m\u001b[0;34m\u001b[0m\u001b[0;34m\u001b[0m\u001b[0m\n\u001b[0;32m--> 559\u001b[0;31m     return _copytree(entries=entries, src=src, dst=dst, symlinks=symlinks,\n\u001b[0m\u001b[1;32m    560\u001b[0m                      \u001b[0mignore\u001b[0m\u001b[0;34m=\u001b[0m\u001b[0mignore\u001b[0m\u001b[0;34m,\u001b[0m \u001b[0mcopy_function\u001b[0m\u001b[0;34m=\u001b[0m\u001b[0mcopy_function\u001b[0m\u001b[0;34m,\u001b[0m\u001b[0;34m\u001b[0m\u001b[0;34m\u001b[0m\u001b[0m\n\u001b[1;32m    561\u001b[0m                      \u001b[0mignore_dangling_symlinks\u001b[0m\u001b[0;34m=\u001b[0m\u001b[0mignore_dangling_symlinks\u001b[0m\u001b[0;34m,\u001b[0m\u001b[0;34m\u001b[0m\u001b[0;34m\u001b[0m\u001b[0m\n",
            "\u001b[0;32m/usr/lib/python3.10/shutil.py\u001b[0m in \u001b[0;36m_copytree\u001b[0;34m(entries, src, dst, symlinks, ignore, copy_function, ignore_dangling_symlinks, dirs_exist_ok)\u001b[0m\n\u001b[1;32m    455\u001b[0m         \u001b[0mignored_names\u001b[0m \u001b[0;34m=\u001b[0m \u001b[0mset\u001b[0m\u001b[0;34m(\u001b[0m\u001b[0;34m)\u001b[0m\u001b[0;34m\u001b[0m\u001b[0;34m\u001b[0m\u001b[0m\n\u001b[1;32m    456\u001b[0m \u001b[0;34m\u001b[0m\u001b[0m\n\u001b[0;32m--> 457\u001b[0;31m     \u001b[0mos\u001b[0m\u001b[0;34m.\u001b[0m\u001b[0mmakedirs\u001b[0m\u001b[0;34m(\u001b[0m\u001b[0mdst\u001b[0m\u001b[0;34m,\u001b[0m \u001b[0mexist_ok\u001b[0m\u001b[0;34m=\u001b[0m\u001b[0mdirs_exist_ok\u001b[0m\u001b[0;34m)\u001b[0m\u001b[0;34m\u001b[0m\u001b[0;34m\u001b[0m\u001b[0m\n\u001b[0m\u001b[1;32m    458\u001b[0m     \u001b[0merrors\u001b[0m \u001b[0;34m=\u001b[0m \u001b[0;34m[\u001b[0m\u001b[0;34m]\u001b[0m\u001b[0;34m\u001b[0m\u001b[0;34m\u001b[0m\u001b[0m\n\u001b[1;32m    459\u001b[0m     \u001b[0muse_srcentry\u001b[0m \u001b[0;34m=\u001b[0m \u001b[0mcopy_function\u001b[0m \u001b[0;32mis\u001b[0m \u001b[0mcopy2\u001b[0m \u001b[0;32mor\u001b[0m \u001b[0mcopy_function\u001b[0m \u001b[0;32mis\u001b[0m \u001b[0mcopy\u001b[0m\u001b[0;34m\u001b[0m\u001b[0;34m\u001b[0m\u001b[0m\n",
            "\u001b[0;32m/usr/lib/python3.10/os.py\u001b[0m in \u001b[0;36mmakedirs\u001b[0;34m(name, mode, exist_ok)\u001b[0m\n\u001b[1;32m    223\u001b[0m             \u001b[0;32mreturn\u001b[0m\u001b[0;34m\u001b[0m\u001b[0;34m\u001b[0m\u001b[0m\n\u001b[1;32m    224\u001b[0m     \u001b[0;32mtry\u001b[0m\u001b[0;34m:\u001b[0m\u001b[0;34m\u001b[0m\u001b[0;34m\u001b[0m\u001b[0m\n\u001b[0;32m--> 225\u001b[0;31m         \u001b[0mmkdir\u001b[0m\u001b[0;34m(\u001b[0m\u001b[0mname\u001b[0m\u001b[0;34m,\u001b[0m \u001b[0mmode\u001b[0m\u001b[0;34m)\u001b[0m\u001b[0;34m\u001b[0m\u001b[0;34m\u001b[0m\u001b[0m\n\u001b[0m\u001b[1;32m    226\u001b[0m     \u001b[0;32mexcept\u001b[0m \u001b[0mOSError\u001b[0m\u001b[0;34m:\u001b[0m\u001b[0;34m\u001b[0m\u001b[0;34m\u001b[0m\u001b[0m\n\u001b[1;32m    227\u001b[0m         \u001b[0;31m# Cannot rely on checking for EEXIST, since the operating system\u001b[0m\u001b[0;34m\u001b[0m\u001b[0;34m\u001b[0m\u001b[0m\n",
            "\u001b[0;31mFileExistsError\u001b[0m: [Errno 17] File exists: 'Pictures'"
          ]
        }
      ]
    },
    {
      "cell_type": "code",
      "source": [
        "import os\n",
        "\n",
        "# Get the user's home directory\n",
        "home_directory = os.path.expanduser(\"~\")\n",
        "\n",
        "# Construct the path to the desktop directory\n",
        "desktop_directory = os.path.join(home_directory, \"Desktop\")\n",
        "\n",
        "print(\"Desktop directory:\", desktop_directory)\n"
      ],
      "metadata": {
        "colab": {
          "base_uri": "https://localhost:8080/"
        },
        "id": "E6fN6euA7wHk",
        "outputId": "af951025-d22b-46a7-af66-4d8bd75a7606"
      },
      "execution_count": null,
      "outputs": [
        {
          "output_type": "stream",
          "name": "stdout",
          "text": [
            "Desktop directory: /root/Desktop\n"
          ]
        }
      ]
    },
    {
      "cell_type": "code",
      "source": [
        "import shutil\n",
        "\n",
        "# Source directory where your model files are located\n",
        "source_directory = \"/content/output_directory\"  # Update this with the correct path\n",
        "\n",
        "# Destination directory (your desktop directory)\n",
        "desktop_directory = \"/root/Desktop\"\n",
        "\n",
        "# Copy the model files to the desktop directory\n",
        "shutil.copytree(source_directory, desktop_directory)\n",
        "\n",
        "print(\"Model files copied to:\", desktop_directory)\n"
      ],
      "metadata": {
        "colab": {
          "base_uri": "https://localhost:8080/"
        },
        "id": "WNmVYeC776iN",
        "outputId": "71250c5f-31fc-468e-a362-4a7708f55717"
      },
      "execution_count": null,
      "outputs": [
        {
          "output_type": "stream",
          "name": "stdout",
          "text": [
            "Model files copied to: /root/Desktop\n"
          ]
        }
      ]
    },
    {
      "cell_type": "code",
      "source": [
        "import os\n",
        "\n",
        "output_directory = \"/content/output_directory\"  # Update with the correct path\n",
        "print(os.listdir(output_directory))\n"
      ],
      "metadata": {
        "colab": {
          "base_uri": "https://localhost:8080/"
        },
        "id": "1yzzXx7-8bE0",
        "outputId": "b6fbe516-6465-4ee0-bbab-ee38079e108b"
      },
      "execution_count": null,
      "outputs": [
        {
          "output_type": "stream",
          "name": "stdout",
          "text": [
            "['tfjs_model.zip']\n"
          ]
        }
      ]
    },
    {
      "cell_type": "code",
      "source": [],
      "metadata": {
        "id": "wsJsmqR4_U-f"
      },
      "execution_count": null,
      "outputs": []
    },
    {
      "cell_type": "code",
      "source": [
        "import zipfile\n",
        "\n",
        "# Path to the ZIP archive\n",
        "zip_file_path = \"/root/Desktop/tfjs_model.zip\"  # Update with the correct path\n",
        "\n",
        "# Directory where you want to extract the model files\n",
        "extraction_directory = \"/root/Desktop/tfjs_model\"  # Update with the desired directory\n",
        "\n",
        "# Unzip the archive\n",
        "with zipfile.ZipFile(zip_file_path, 'r') as zip_ref:\n",
        "    zip_ref.extractall(extraction_directory)\n",
        "\n",
        "print(\"Model files extracted to:\", extraction_directory)\n"
      ],
      "metadata": {
        "colab": {
          "base_uri": "https://localhost:8080/"
        },
        "id": "Mb_PUCbC8nWJ",
        "outputId": "c50750e7-8d2b-45da-afef-d29855e95112"
      },
      "execution_count": null,
      "outputs": [
        {
          "output_type": "stream",
          "name": "stdout",
          "text": [
            "Model files extracted to: /root/Desktop/tfjs_model\n"
          ]
        }
      ]
    },
    {
      "cell_type": "code",
      "source": [
        "import os\n",
        "\n",
        "output_directory = \"/content/tfjs_model\"  # Update with the correct path\n",
        "print(os.listdir(output_directory))\n"
      ],
      "metadata": {
        "colab": {
          "base_uri": "https://localhost:8080/"
        },
        "id": "0Vxq5-tX_WqR",
        "outputId": "7d083561-9e95-417b-9025-7806ddcf6ad9"
      },
      "execution_count": null,
      "outputs": [
        {
          "output_type": "stream",
          "name": "stdout",
          "text": [
            "['group1-shard47of49.bin', 'group1-shard2of49.bin', 'group1-shard12of49.bin', 'group1-shard33of49.bin', 'group1-shard23of49.bin', 'group1-shard31of49.bin', 'group1-shard35of49.bin', 'group1-shard30of49.bin', 'group1-shard8of49.bin', 'group1-shard10of49.bin', 'group1-shard49of49.bin', 'group1-shard3of49.bin', 'group1-shard46of49.bin', 'group1-shard44of49.bin', 'group1-shard38of49.bin', 'group1-shard5of49.bin', 'group1-shard48of49.bin', 'group1-shard41of49.bin', 'model.json', 'group1-shard17of49.bin', 'group1-shard43of49.bin', 'group1-shard29of49.bin', 'group1-shard4of49.bin', 'group1-shard42of49.bin', 'group1-shard6of49.bin', 'group1-shard1of49.bin', 'group1-shard15of49.bin', 'group1-shard13of49.bin', 'group1-shard36of49.bin', 'group1-shard20of49.bin', 'group1-shard37of49.bin', 'group1-shard27of49.bin', 'group1-shard34of49.bin', 'group1-shard9of49.bin', 'group1-shard18of49.bin', 'group1-shard40of49.bin', 'group1-shard19of49.bin', 'group1-shard26of49.bin', 'group1-shard25of49.bin', 'group1-shard45of49.bin', 'group1-shard22of49.bin', 'group1-shard16of49.bin', 'group1-shard11of49.bin', 'group1-shard28of49.bin', 'group1-shard24of49.bin', 'group1-shard7of49.bin', 'group1-shard39of49.bin', 'group1-shard32of49.bin', 'group1-shard14of49.bin', 'group1-shard21of49.bin']\n"
          ]
        }
      ]
    }
  ]
}